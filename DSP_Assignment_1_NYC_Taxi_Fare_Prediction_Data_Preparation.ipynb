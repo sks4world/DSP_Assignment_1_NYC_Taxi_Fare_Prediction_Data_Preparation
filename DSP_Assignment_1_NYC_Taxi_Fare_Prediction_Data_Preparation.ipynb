{
 "cells": [
  {
   "cell_type": "markdown",
   "metadata": {},
   "source": [
    "# DSP Assignment 1 NYC Taxi Fare Prediction Data Preparation"
   ]
  },
  {
   "cell_type": "markdown",
   "metadata": {},
   "source": [
    "Download the taxi-fare-train.csv and the taxi-fare-test.csv data sets and save them to the Data folder you've created at the previous step. We use these data sets to train the machine learning model and then evaluate how accurate the model is. These data sets are originally from the NYC TLC Taxi Trip data set.\n",
    "\n",
    "1. Train.csv https://github.com/dotnet/machinelearning/blob/master/test/data/taxi-fare-train.csv\n",
    "2. Test.csv https://github.com/dotnet/machinelearning/blob/master/test/data/taxi-fare-test.csv\n",
    "3. Original link https://www1.nyc.gov/site/tlc/about/tlc-trip-record-data.page"
   ]
  },
  {
   "cell_type": "markdown",
   "metadata": {},
   "source": [
    "The label is the column you want to predict. The identified Features are the inputs you give the model to predict the Label.\n",
    "\n",
    "The provided data set contains the following columns:\n",
    "\n",
    "    vendor_id: The ID of the taxi vendor is a feature.\n",
    "    rate_code: The rate type of the taxi trip is a feature.\n",
    "    passenger_count: The number of passengers on the trip is a feature.\n",
    "    trip_time_in_secs: The amount of time the trip took. You want to predict the fare of the trip before the trip is completed. At that moment, you don't know how long the trip would take. Thus, the trip time is not a feature and you'll exclude this column from the model.\n",
    "    trip_distance: The distance of the trip is a feature.\n",
    "    payment_type: The payment method (cash or credit card) is a feature.\n",
    "    fare_amount: The total taxi fare paid is the label.\n"
   ]
  },
  {
   "cell_type": "markdown",
   "metadata": {},
   "source": [
    "This problem is about predicting a taxi trip fare in New York City. At first glance, it may seem to depend simply on the distance traveled. However, taxi vendors in New York charge varying amounts for other factors such as additional passengers or paying with a credit card instead of cash. You want to predict the price value, which is a real value, based on the other factors in the dataset. To do that, you choose a regression machine learning task."
   ]
  },
  {
   "cell_type": "markdown",
   "metadata": {},
   "source": [
    "1. Import necessary libraries\n",
    "2. Read taxi-fare-train.csv\n",
    "3. Display the first five rows of the data using dataframe.head() in Pandas\n",
    "4. Check the number of rows and columns in the dataset using dataframe.shape in Pandas\n",
    "5. Use Matplotlib Pyplot and plot a Scatterplot. Ensure following are displayed in the plot. X-axis label 'Trip distance', Y-axis label 'Fare amount', plot title 'Plot between Trip distance and Fare amount'\n",
    "6. Display 'ONE' scatter plot with same X-axis, Y-axis and title as above, but, differentiate the observations or scatter-points by a different color for each 'passenter_count'. There are six passenger_count unique-values in the data. Show a color legend to understand the plot. Use the following example, done for one passenger_count. Or use your own methods.\n",
    "7. Check the data type of each column in the data frame using dataframe.dtypes\n",
    "8. Check if there are any missing or null values in the data frame using dataframe.isnull()\n",
    "9. OPTIONAL: Draw a box plot showing fare_amount for each passenger type\n",
    "10. Show a histogram of fare_amount, to show the count of observations distributed for various fare amounts. Hint: use xlim(xmin=0, xmax=100) to control the x-axis ticks"
   ]
  },
  {
   "cell_type": "code",
   "execution_count": 3,
   "metadata": {},
   "outputs": [],
   "source": [
    "df_passengers_1 = df[df.passenger_count==1]\n",
    "print(df_passengers_1.head(3))\n",
    "\n",
    "x=df_passengers_1.trip_distance\n",
    "y=df_passengers_1.fare_amount\n",
    "ax.scatter(x, y, alpha=0.8, c='red', label='pas_1')\n",
    "\n",
    "plt.title('Plot between Trip distance and Fare amount')\n",
    "plt.xlabel('Trip distance')\n",
    "plt.ylabel('Fare amount')\n",
    "plt.legend(loc=1)\n",
    "plt.show()"
   ]
  },
  {
   "cell_type": "code",
   "execution_count": null,
   "metadata": {},
   "outputs": [],
   "source": []
  }
 ],
 "metadata": {
  "kernelspec": {
   "display_name": "Python 2",
   "language": "python",
   "name": "python2"
  },
  "language_info": {
   "codemirror_mode": {
    "name": "ipython",
    "version": 2
   },
   "file_extension": ".py",
   "mimetype": "text/x-python",
   "name": "python",
   "nbconvert_exporter": "python",
   "pygments_lexer": "ipython2",
   "version": "2.7.16"
  }
 },
 "nbformat": 4,
 "nbformat_minor": 2
}
